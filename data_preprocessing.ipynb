{
 "cells": [
  {
   "cell_type": "markdown",
   "metadata": {},
   "source": [
    "# Data Pre-Processing\n",
    "This file is used to do data processing with the images for writing the images to dataset, augmentation and deleting the images from directory\n",
    "\n",
    "* Agumentation and Deletion function is commented and can be executed by uncommenting"
   ]
  },
  {
   "cell_type": "markdown",
   "metadata": {},
   "source": [
    "### Modules"
   ]
  },
  {
   "cell_type": "code",
   "execution_count": 24,
   "metadata": {},
   "outputs": [],
   "source": [
    "import cv2 as cv\n",
    "import os"
   ]
  },
  {
   "cell_type": "markdown",
   "metadata": {},
   "source": [
    "## Function used to create a image dataset of images of same format in each sub directory of each class"
   ]
  },
  {
   "cell_type": "code",
   "execution_count": 25,
   "metadata": {},
   "outputs": [],
   "source": [
    "def create_dataset(source,destination,classes):\n",
    "    total_num=0\n",
    "    for cls in classes:\n",
    "        count=0\n",
    "        img_num=1\n",
    "        for filename in os.listdir(os.path.join(source,cls)):\n",
    "            img=cv.imread(os.path.join(os.path.join(source,cls),filename))\n",
    "            if img is not None:\n",
    "                cv.imwrite(os.path.join(os.path.join(destination,cls),str(cls+\"-\"+str(img_num)+\".jpg\")),img)\n",
    "                count+=1\n",
    "                img_num+=1\n",
    "                total_num+=1\n",
    "        print(count,\" images written in class \",cls)\n",
    "    print()\n",
    "    print(total_num,\" images written\")\n"
   ]
  },
  {
   "cell_type": "markdown",
   "metadata": {},
   "source": [
    "## Function used to delete all Images"
   ]
  },
  {
   "cell_type": "code",
   "execution_count": 26,
   "metadata": {},
   "outputs": [],
   "source": [
    "def delete_dataset(source,classes):\n",
    "    total_num=0\n",
    "    for cls in classes:\n",
    "        count=0\n",
    "        for filename in os.listdir(os.path.join(source,cls)):\n",
    "            if os.path.exists(os.path.join(os.path.join(source,cls),filename)) == True:\n",
    "                os.remove(os.path.join(os.path.join(source,cls),filename))\n",
    "                count+=1\n",
    "                total_num+=1\n",
    "        print(count,\" images deleted in class \",cls)\n",
    "    print()\n",
    "    print(total_num,\" images deleted\")"
   ]
  },
  {
   "cell_type": "markdown",
   "metadata": {},
   "source": [
    "## Function used to convert all images to grey scale and write them"
   ]
  },
  {
   "cell_type": "code",
   "execution_count": 27,
   "metadata": {},
   "outputs": [],
   "source": [
    "def gray_agumentation(destination,classes):\n",
    "    total_num=0\n",
    "    for cls in classes:\n",
    "        count=0\n",
    "        img_num=1\n",
    "        for filename in os.listdir(os.path.join(destination,cls)):\n",
    "            img=cv.imread(os.path.join(os.path.join(destination,cls),filename))\n",
    "            if img is not None:\n",
    "                img=cv.cvtColor(img,cv.COLOR_RGB2GRAY)\n",
    "                cv.imwrite(os.path.join(os.path.join(destination,cls),str(cls+\"-grey\"+str(img_num)+\".jpg\")),img)\n",
    "                count+=1\n",
    "                img_num+=1\n",
    "                total_num+=1\n",
    "        print(count,\" images of grey written in class \",cls)\n",
    "    print()\n",
    "    print(total_num,\" images written\")"
   ]
  },
  {
   "cell_type": "markdown",
   "metadata": {},
   "source": [
    "### Classes vairiable"
   ]
  },
  {
   "cell_type": "code",
   "execution_count": 28,
   "metadata": {},
   "outputs": [],
   "source": [
    "classes=['adipose','muscle','red']"
   ]
  },
  {
   "cell_type": "markdown",
   "metadata": {},
   "source": [
    "### Running function to create dataset of images"
   ]
  },
  {
   "cell_type": "code",
   "execution_count": 29,
   "metadata": {},
   "outputs": [
    {
     "name": "stdout",
     "output_type": "stream",
     "text": [
      "150  images written in class  adipose\n",
      "149  images written in class  muscle\n",
      "147  images written in class  red\n",
      "\n",
      "446  images written\n"
     ]
    }
   ],
   "source": [
    "images_dir='../images/'\n",
    "dataset_dir='../dataset/'\n",
    "create_dataset(\n",
    "    source=images_dir,\n",
    "    destination=dataset_dir,\n",
    "    classes=classes\n",
    ")"
   ]
  },
  {
   "cell_type": "markdown",
   "metadata": {},
   "source": [
    "### Running function to create gray scale images"
   ]
  },
  {
   "cell_type": "code",
   "execution_count": 30,
   "metadata": {},
   "outputs": [
    {
     "name": "stdout",
     "output_type": "stream",
     "text": [
      "150  images of grey written in class  adipose\n",
      "149  images of grey written in class  muscle\n",
      "147  images of grey written in class  red\n",
      "\n",
      "446  images written\n"
     ]
    }
   ],
   "source": [
    "# gray_agumentation(\n",
    "#     destination=dataset_dir,\n",
    "#     classes=classes\n",
    "# )"
   ]
  },
  {
   "cell_type": "markdown",
   "metadata": {},
   "source": [
    "### Running function to delete all images"
   ]
  },
  {
   "cell_type": "code",
   "execution_count": 31,
   "metadata": {},
   "outputs": [],
   "source": [
    "# delete_dataset(\n",
    "#     source=dataset_dir,\n",
    "#     classes=classes\n",
    "# )"
   ]
  },
  {
   "cell_type": "code",
   "execution_count": null,
   "metadata": {},
   "outputs": [],
   "source": []
  }
 ],
 "metadata": {
  "kernelspec": {
   "display_name": "Python 3",
   "language": "python",
   "name": "python3"
  },
  "language_info": {
   "codemirror_mode": {
    "name": "ipython",
    "version": 3
   },
   "file_extension": ".py",
   "mimetype": "text/x-python",
   "name": "python",
   "nbconvert_exporter": "python",
   "pygments_lexer": "ipython3",
   "version": "3.10.13"
  }
 },
 "nbformat": 4,
 "nbformat_minor": 2
}
